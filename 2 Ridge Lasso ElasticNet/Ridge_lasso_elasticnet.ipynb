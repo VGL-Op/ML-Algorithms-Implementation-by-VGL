{
 "cells": [
  {
   "cell_type": "markdown",
   "metadata": {},
   "source": [
    "# Algerian Forest Fire Dataset"
   ]
  },
  {
   "cell_type": "markdown",
   "metadata": {},
   "source": [
    "\n",
    "The Algerian Forest Fires Dataset is a comprehensive collection of data focusing on forest fires in two regions of Algeria: the Bejaia region in the northeast and the Sidi Bel-Abbes region in the northwest. The dataset encompasses 244 instances, with 122 instances from each region, covering the period from June to September 2012. It includes 12 attributes and is classified into two categories: \"fire\" (138 instances) and \"not fire\" (106 instances). \n",
    "\n",
    "Attributes:\n",
    "\n",
    "Date: Recorded in the format DD/MM/YYYY.\n",
    "Temperature (Temp): Noon temperature in Celsius degrees, ranging from 22 to 42°C.\n",
    "Relative Humidity (RH): Expressed as a percentage, ranging from 21% to 90%.\n",
    "Wind Speed (Ws): Measured in km/h, ranging from 6 to 29 km/h.\n",
    "Rain: Total daily rainfall in mm, ranging from 0 to 16.8 mm.\n",
    "Fine Fuel Moisture Code (FFMC): Index from the Canadian Fire Weather Index (FWI) system, ranging from 28.6 to 92.5.\n",
    "Duff Moisture Code (DMC): FWI system index, ranging from 1.1 to 65.9.\n",
    "Drought Code (DC): FWI system index, ranging from 7 to 220.4.\n",
    "Initial Spread Index (ISI): FWI system index, ranging from 0 to 18.5.\n",
    "Buildup Index (BUI): FWI system index, ranging from 1.1 to 68.\n",
    "Fire Weather Index (FWI): Comprehensive FWI system index, ranging from 0 to 31.1.\n",
    "Classes: Binary classification indicating the occurrence of a fire (\"fire\") or no fire (\"not fire\")."
   ]
  },
  {
   "cell_type": "code",
   "execution_count": null,
   "metadata": {},
   "outputs": [],
   "source": []
  }
 ],
 "metadata": {
  "kernelspec": {
   "display_name": "myenv",
   "language": "python",
   "name": "python3"
  },
  "language_info": {
   "name": "python",
   "version": "3.12.3"
  }
 },
 "nbformat": 4,
 "nbformat_minor": 2
}
